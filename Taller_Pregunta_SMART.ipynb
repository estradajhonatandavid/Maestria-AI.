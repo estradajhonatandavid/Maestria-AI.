{
  "nbformat": 4,
  "nbformat_minor": 0,
  "metadata": {
    "colab": {
      "provenance": [],
      "authorship_tag": "ABX9TyPbCEHPrY6i9Tt5DTeyYeyY",
      "include_colab_link": true
    },
    "kernelspec": {
      "name": "python3",
      "display_name": "Python 3"
    },
    "language_info": {
      "name": "python"
    }
  },
  "cells": [
    {
      "cell_type": "markdown",
      "metadata": {
        "id": "view-in-github",
        "colab_type": "text"
      },
      "source": [
        "<a href=\"https://colab.research.google.com/github/estradajhonatandavid/Maestria-AI./blob/main/Taller_Pregunta_SMART.ipynb\" target=\"_parent\"><img src=\"https://colab.research.google.com/assets/colab-badge.svg\" alt=\"Open In Colab\"/></a>"
      ]
    },
    {
      "cell_type": "code",
      "execution_count": null,
      "metadata": {
        "id": "DOtuwKR1GFud"
      },
      "outputs": [],
      "source": []
    },
    {
      "cell_type": "markdown",
      "source": [
        "¿Cómo se puede, en un plazo de 6 meses, reducir en un 80% el tiempo necesario para consultar información de productos específicos en las bases de datos de importaciones, acelarando los tiempos en  la identificación del mercado servido para calcular el Market Share de Boston Scientific mediante la implementación de modelos de lenguaje o AI Generativa ?"
      ],
      "metadata": {
        "id": "S9WRTZjLGN2H"
      }
    }
  ]
}